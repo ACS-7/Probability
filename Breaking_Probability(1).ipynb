{
  "nbformat": 4,
  "nbformat_minor": 0,
  "metadata": {
    "colab": {
      "name": "Breaking Probability.ipynb",
      "provenance": [],
      "collapsed_sections": [
        "kN9vEF8iugKw"
      ],
      "toc_visible": true
    },
    "kernelspec": {
      "name": "python3",
      "display_name": "Python 3"
    },
    "language_info": {
      "name": "python"
    }
  },
  "cells": [
    {
      "cell_type": "markdown",
      "metadata": {
        "id": "TrjN2riOopGo"
      },
      "source": [
        "# Breaking Probability\n",
        "\n",
        "### Background\n",
        "Suppose you know that the outcomes of the last 5 fair coin flips are all TAILS. You are asked to place a bet on the outcome of the 6th flip - with $1 million on the line. Should you bet on HEADS? TAILS? Does it matter, or is this pure chance?\n",
        "\n",
        "Convention teaches that a coin flip is an independent event. That is to say, prior outcomes do not influence future outcomes. Another way to look at it is the coin does not know it's previous results. It simply lands at random, if you will. But is this really the case?\n",
        "\n",
        "To find out, let us run a Monte Carlo simulation and analyze the results. \n",
        "\n",
        "For those unfamiliar, a Monte Carlo simulation is a technique where computers are used to simulate probability via large numbers of repetitions. "
      ]
    },
    {
      "cell_type": "markdown",
      "metadata": {
        "id": "WhAl-iTIsL3Y"
      },
      "source": [
        "### Imports\n",
        "\n",
        "time, random, and matplotlib will be used for this proof. Explanations for each are in the form of code comments."
      ]
    },
    {
      "cell_type": "code",
      "metadata": {
        "id": "bJ-eOOt5sHAy"
      },
      "source": [
        "# to report execution time\n",
        "import time\n",
        "start_time = time.time()\n",
        "\n",
        "# allow for randomization - simulate coin flip\n",
        "import random\n",
        "\n",
        "# plotting\n",
        "import matplotlib.pyplot as plt"
      ],
      "execution_count": 7,
      "outputs": []
    },
    {
      "cell_type": "markdown",
      "metadata": {
        "id": "jCYHPoJwsf4M"
      },
      "source": [
        "### Run Monte Carlo Simulation\n",
        "\n",
        "Notice we simulate 1,000,000 coin flips.\n",
        "\n",
        "This should be more than enough to get accurate probabilities, but we can check."
      ]
    },
    {
      "cell_type": "code",
      "metadata": {
        "id": "JFWrLM77sdaC"
      },
      "source": [
        "# array to store flip results\n",
        "flip_results = []\n",
        "\n",
        "# simulate 1,000,000 coin flips and record results\n",
        "# 0 represents \"HEADS\"\n",
        "# 1 represents \"TAILS\"\n",
        "for i in range(1000000):\n",
        "    flip_results.append(random.randint(0,1))"
      ],
      "execution_count": 8,
      "outputs": []
    },
    {
      "cell_type": "markdown",
      "metadata": {
        "id": "ql4jsAF4s5cC"
      },
      "source": [
        "### Plot Running Probability\n",
        "\n",
        "Let's see how our probability evolves with each repetition, as well as the final result. \n",
        "\n",
        "Expected output: \n",
        "\n",
        "$P(HEAD$ or $TAIL)$ = $\\frac{1}{2^1}$ = $\\frac{1}{2}$ = $0.50$ or $50$%\n",
        "\n",
        "Note: no seed value is specified, thus your results will vary. However, the value should always be $0.50 +/- 0.05$."
      ]
    },
    {
      "cell_type": "code",
      "metadata": {
        "colab": {
          "base_uri": "https://localhost:8080/",
          "height": 296
        },
        "id": "iBhPl1ZgtaHm",
        "outputId": "556c9e3d-d2fc-46db-dcd7-e6ba9abc54b1"
      },
      "source": [
        "def p_over_time(flips):\n",
        "    p_progression = []\n",
        "    running_total = 0\n",
        "    \n",
        "    for flip in range(len(flips)):\n",
        "        running_total += flips[flip]\n",
        "        p_progression.append(running_total / (flip + 1))\n",
        "\n",
        "    for num in range(1000):\n",
        "      p_progression.pop(0)\n",
        "\n",
        "    plt.axhline(y = 0.5, color = 'b')\n",
        "    plt.plot(p_progression)\n",
        "\n",
        "p_over_time(flip_results)\n",
        "print(\"P(heads) or P(tails) = \",(sum(flip_results) / len(flip_results)))"
      ],
      "execution_count": 9,
      "outputs": [
        {
          "output_type": "stream",
          "name": "stdout",
          "text": [
            "P(heads) or P(tails) =  0.499285\n"
          ]
        },
        {
          "output_type": "display_data",
          "data": {
            "image/png": "[encoded data removed]",
            "text/plain": [
              "<Figure size 432x288 with 1 Axes>"
            ]
          },
          "metadata": {
            "needs_background": "light"
          }
        }
      ]
    },
    {
      "cell_type": "markdown",
      "metadata": {
        "id": "kN9vEF8iugKw"
      },
      "source": [
        "### Running Probability Analysis\n",
        "\n",
        "The returned value is as we expected, around 0.5. Therefore we can conclude our Monte Carlo simulation has done its job. \n",
        "\n",
        "But why?\n",
        "\n",
        "Monte Carlo simulations take advantage of the Law of Large Numbers, which states that the more simulations you run, the more accurate of a probability you will obtain. \n",
        "\n",
        "Notice the first 1,000 running probability values are not plotted. This is because the variation is initially too extreme to render an informative graph. However, the more coins that are virtually flipped, the more accurate the probability estimate becomes.  "
      ]
    },
    {
      "cell_type": "markdown",
      "metadata": {
        "id": "ynJ6BHN_vmp4"
      },
      "source": [
        "### Traditional Probability Test\n",
        "\n",
        "Let's approach our question from a traditional probability perspective.\n",
        "\n",
        "Looking at each value, it is expected that the probability of the next coin flip should be 0.5, regardless of the previous result. Let's see if this holds.\n",
        "\n",
        "The following code calculates the following:\n",
        "\n",
        "Given any flip $n$ out of the 1,000,000 flips, what is the probability that flip $n + 1$ is the same? That is, $n = n + 1$?"
      ]
    },
    {
      "cell_type": "code",
      "metadata": {
        "colab": {
          "base_uri": "https://localhost:8080/"
        },
        "id": "D8GsCoqmud3o",
        "outputId": "98617afe-0749-452d-ab04-05cc86ebe105"
      },
      "source": [
        "def subsequent_flip(flips):\n",
        "  flip = flips[0]\n",
        "  length = len(flips)\n",
        "  is_same = 0\n",
        "\n",
        "  for i in range(1, length):\n",
        "    if flip == flips[i]:\n",
        "      is_same += 1\n",
        "      flip = flips[i]\n",
        "\n",
        "  return is_same\n",
        "\n",
        "print(\"P(SAME AS PRIOR) = \", subsequent_flip(flip_results) / len(flip_results))"
      ],
      "execution_count": 10,
      "outputs": [
        {
          "output_type": "stream",
          "name": "stdout",
          "text": [
            "P(SAME AS PRIOR) =  0.499284\n"
          ]
        }
      ]
    },
    {
      "cell_type": "markdown",
      "metadata": {
        "id": "A_kswnouHJGp"
      },
      "source": [
        "The value is around 0.5, which appears to mean that the coin flips are truly random and prior results have no impact.\n",
        "\n",
        "BUT... is this the whole story?"
      ]
    },
    {
      "cell_type": "markdown",
      "metadata": {
        "id": "yNC51S6kHjV8"
      },
      "source": [
        "### Probability of Exactly 2 of the Same in a Row\n",
        "\n",
        "Now we will calculate the probability of obtaining exactly two HEADS (or exactly two TAILS) in a row. \n",
        "\n",
        "The expected result is:\n",
        "\n",
        "$P$ = $\\frac{1}{2^2}$ = $\\frac{1}{4}$ = $0.25$ or $25$%"
      ]
    },
    {
      "cell_type": "code",
      "metadata": {
        "colab": {
          "base_uri": "https://localhost:8080/"
        },
        "id": "rvX4fKBZLZbU",
        "outputId": "c56403ed-60f8-49ee-b206-6cbc01780d09"
      },
      "source": [
        "# getting exactly two heads or two tails in a row\n",
        "def two_of_a_kind(flips):\n",
        "\n",
        "    two = 0\n",
        "\n",
        "    for i in range(1, len(flips) - 1):\n",
        "        if flips[i] == flips[i + 1]:\n",
        "            if (i + 2) < len(flips) and flips[i] != flips[i + 2]:\n",
        "                two += 1\n",
        "                i += 2\n",
        "            else:\n",
        "                j = i + 3\n",
        "                while j < len(flips) and flips[j] == flips[j - 1] :\n",
        "                    j += 1\n",
        "                i = j\n",
        "    \n",
        "    return two\n",
        "\n",
        "print(\"P(exactly 2 heads or exactly 2 tails) = \", (two_of_a_kind(flip_results) / len(flip_results)))"
      ],
      "execution_count": 11,
      "outputs": [
        {
          "output_type": "stream",
          "name": "stdout",
          "text": [
            "P(exactly 2 heads or exactly 2 tails) =  0.249979\n"
          ]
        }
      ]
    },
    {
      "cell_type": "markdown",
      "metadata": {
        "id": "85vJBl0sKiph"
      },
      "source": [
        "The probability holds; the value is around $0.25$%."
      ]
    },
    {
      "cell_type": "markdown",
      "metadata": {
        "id": "Tsqz-GxKRq0G"
      },
      "source": [
        "# Probability of N Concurrent Flips\n",
        "\n",
        "\n",
        "### Generalization\n",
        "Now let's generalize and count the number of times each N concurrent flips occurs. \n",
        "\n",
        "Some sample expected results: \n",
        "\n",
        "$P$ (3 in a row) = $\\frac{1}{2^3}$ = $\\frac{1}{8}$ = $0.125$ or $12.5$%\n",
        "\n",
        "$P$ (4 in a row) = $\\frac{1}{2^4}$ = $\\frac{1}{16}$ = $0.0625$ or $6.25$%\n",
        "\n",
        "$P$ (5 in a row) = $\\frac{1}{2^5}$ = $\\frac{1}{32}$ = $0.03125$ or $3.125$%"
      ]
    },
    {
      "cell_type": "code",
      "metadata": {
        "id": "2caDi57URvZX",
        "colab": {
          "base_uri": "https://localhost:8080/",
          "height": 724
        },
        "outputId": "1e10aa27-c058-4c62-9139-1d0add90d569"
      },
      "source": [
        "# counting occurences\n",
        "\n",
        "# dictionary to store counts of each length\n",
        "dict_counts = {1:0, 2:0, 3:0, 4:0, 5:0, 6:0, 7:0, 8:0, 9:0, 10:0, 11:0, 12:0, 13:0, 14:0, 15:0, 16:0, 17:0, 18:0, 19:0, 20:0}\n",
        "\n",
        "# function to convert element at list index to string and append\n",
        "def concurrence_counter(flips):\n",
        "  # keep track of current string's length\n",
        "  string_length = 1\n",
        "\n",
        "  current_val = flips[0]\n",
        "\n",
        "  for i in range(1, len(flips)):\n",
        "    if current_val == flips[i]:\n",
        "      string_length += 1\n",
        "    else:\n",
        "      dict_counts[string_length] += 1  \n",
        "      string_length = 1\n",
        "  \n",
        "  print(\"Flip Series Length\\t Probability\")\n",
        "\n",
        "  sum_occurences = 0\n",
        "  sum_probability = 0\n",
        "  counts = []\n",
        "  lengths = list(range(1,21))\n",
        "\n",
        "  for val in dict_counts:\n",
        "    sum_occurences += dict_counts[val]\n",
        "    sum_probability += (dict_counts[val]/sum_occurences)\n",
        "    counts.append(dict_counts[val])\n",
        "\n",
        "  for val in dict_counts:\n",
        "    print(val, \"\\t\\t\\t\\t\\t\\t\", dict_counts[val]/sum_occurences)\n",
        "\n",
        "  print(\"\\n\\nNow let's plot the first 10 values...\\n\")\n",
        "\n",
        "  plt.bar(lengths[:10], counts[:10])\n",
        "  plt.show()\n",
        "\n",
        "concurrence_counter(flip_results)\n",
        "\n",
        "\n",
        "    \n"
      ],
      "execution_count": 17,
      "outputs": [
        {
          "output_type": "stream",
          "name": "stdout",
          "text": [
            "Flip Series Length\t Probability\n",
            "1 \t\t\t\t\t\t 0.5008577733840608\n",
            "2 \t\t\t\t\t\t 0.2497248934024345\n",
            "3 \t\t\t\t\t\t 0.12492535673986199\n",
            "4 \t\t\t\t\t\t 0.06224698680886333\n",
            "5 \t\t\t\t\t\t 0.03120537631187402\n",
            "6 \t\t\t\t\t\t 0.01559170386347523\n",
            "7 \t\t\t\t\t\t 0.007706979020001398\n",
            "8 \t\t\t\t\t\t 0.003846499505706839\n",
            "9 \t\t\t\t\t\t 0.0019392269055250992\n",
            "10 \t\t\t\t\t\t 0.0010345206354912474\n",
            "11 \t\t\t\t\t\t 0.0004893003005701846\n",
            "12 \t\t\t\t\t\t 0.0002296715696553928\n",
            "13 \t\t\t\t\t\t 9.186862786215712e-05\n",
            "14 \t\t\t\t\t\t 5.9914322518798116e-05\n",
            "15 \t\t\t\t\t\t 2.3965729007519246e-05\n",
            "16 \t\t\t\t\t\t 1.1982864503759623e-05\n",
            "17 \t\t\t\t\t\t 5.9914322518798116e-06\n",
            "18 \t\t\t\t\t\t 3.994288167919874e-06\n",
            "19 \t\t\t\t\t\t 3.994288167919874e-06\n",
            "20 \t\t\t\t\t\t 0.0\n",
            "\n",
            "\n",
            "Now let's plot the first 10 values...\n",
            "\n"
          ]
        },
        {
          "output_type": "display_data",
          "data": {
            "image/png": "[encoded data removed]",
            "text/plain": [
              "<Figure size 432x288 with 1 Axes>"
            ]
          },
          "metadata": {
            "needs_background": "light"
          }
        }
      ]
    },
    {
      "cell_type": "markdown",
      "metadata": {
        "id": "i8QiwebnqbhF"
      },
      "source": [
        "Let's simulate gambling... \n",
        "\n",
        "Player will start with $100. \n",
        "\n",
        "Each bet will be of amount $10, and player will bet every round. \n",
        "\n",
        "Bet will be randomly chosen between 0 and 1 (red or black).\n",
        "\n",
        "To make this more realistic, we will include a third option. 2 will be used to denote the green 0 and 00. Player will not bet on these pockets, but the randomization will include them."
      ]
    },
    {
      "cell_type": "code",
      "metadata": {
        "colab": {
          "base_uri": "https://localhost:8080/"
        },
        "id": "DzmDB94OqbJx",
        "outputId": "b3f5253a-60ba-4525-a976-0e156cd62495"
      },
      "source": [
        "# let's simulate gambling where a person has no strategy and bets at random with the same amount each time\n",
        "# we will assume 100 different people are playing the results (randomized 100 times)\n",
        "\n",
        "def gamble_simple():\n",
        "  \n",
        "  bet_amount = 10\n",
        "\n",
        "  for i in range(1000):\n",
        "    won = 0\n",
        "    lost = 0\n",
        "    #max_streak_lose = 0\n",
        "    #max_streak_win = 0\n",
        "\n",
        "    final_balance = []\n",
        "\n",
        "    pockets = [0,1,2]\n",
        "    outcomes = []\n",
        "    bets = []\n",
        "\n",
        "    for pocket in range(100):\n",
        "      land = random.choices(pockets, weights = [18,18,2])\n",
        "      land_int = land[0]\n",
        "      outcomes.append(land_int)\n",
        "    \n",
        "    for bet in range(100):\n",
        "      choice = random.randint(0,1)\n",
        "      bets.append(choice)\n",
        "\n",
        "    for round in range(len(bets)):\n",
        "      if outcomes[round] == bets[round]:\n",
        "        lost += 10\n",
        "        won += 20\n",
        "      else: \n",
        "        lost +=10\n",
        "      \n",
        "    #print(\"Balance: $\", (won-lost), sep = '')\n",
        "\n",
        "    final_balance.append(won-lost)\n",
        "\n",
        "  print(\"Average loss: $\", sum(final_balance)/len(final_balance), sep = '')\n",
        "\n",
        "\n",
        "gamble_simple()"
      ],
      "execution_count": 13,
      "outputs": [
        {
          "output_type": "stream",
          "name": "stdout",
          "text": [
            "Average loss: $0.0\n"
          ]
        }
      ]
    },
    {
      "cell_type": "markdown",
      "metadata": {
        "id": "-_Fg48THSmvm"
      },
      "source": [
        "Now let's see if betting only after 3 of a kind in a row will change the outcomes. \n",
        "\n",
        "This time, we will not bet randomly. Given that we have obtained 3 of a kind, we will bet the opposite.\n",
        "\n",
        "Example: Suppose we notice 3 0's in a row. We will then bet 1, under the assumption that the probability of obtaining another 0 is now different. \n"
      ]
    },
    {
      "cell_type": "code",
      "metadata": {
        "id": "eg3ju0e5SxCp",
        "colab": {
          "base_uri": "https://localhost:8080/"
        },
        "outputId": "62d33545-7497-44f8-c4a6-349b39d9e53d"
      },
      "source": [
        "def gamble_3():\n",
        "  \n",
        "  bet_amount = 10\n",
        "\n",
        "  for i in range(1000):\n",
        "    won = 0\n",
        "    lost = 0\n",
        "    #max_streak_lose = 0\n",
        "    #max_streak_win = 0\n",
        "\n",
        "    final_balance = []\n",
        "\n",
        "    pockets = [0,1,2]\n",
        "    outcomes = []\n",
        "\n",
        "    for pocket in range(100):\n",
        "      land = random.choices(pockets, weights = [18,18,2])\n",
        "      land_int = land[0]\n",
        "      outcomes.append(land_int)\n",
        "\n",
        "    for round in range(97):\n",
        "        if outcomes[round] == outcomes[round + 1] and outcomes[round] == outcomes[round + 2]:\n",
        "          if outcomes[round] == 0:\n",
        "            bet = 1\n",
        "          else:\n",
        "            bet = 0\n",
        "          \n",
        "          if bet == outcomes[round + 3]:\n",
        "            won += 20\n",
        "            lost += 10\n",
        "\n",
        "          else: \n",
        "            lost += 10\n",
        "\n",
        "          round += 3\n",
        "\n",
        "\n",
        "      \n",
        "      \n",
        "    #print(\"Balance: $\", (won-lost), sep = '')\n",
        "\n",
        "    final_balance.append(won-lost)\n",
        "\n",
        "  print(\"Average loss: $\", sum(final_balance)/len(final_balance), sep = '')\n",
        "\n",
        "\n",
        "gamble_3()"
      ],
      "execution_count": 14,
      "outputs": [
        {
          "output_type": "stream",
          "name": "stdout",
          "text": [
            "Average loss: $50.0\n"
          ]
        }
      ]
    },
    {
      "cell_type": "markdown",
      "source": [
        "The outcomes have virtually remained the same, we have not succeeded in increasing our win odds.\n",
        "\n",
        "So, mathematically, why doesn't this work? Let's look at the series notation for this problem. \n",
        "\n",
        "The sum of all probabilities equals 1. \n",
        "\n",
        "$\\sum_{n=1}^∞ \\frac{1}{2^n}$ = 1\n",
        "\n",
        "We can derive an explanation from the sum of series from the following equation. \n",
        "\n",
        "$\\sum_{n=i}^∞ \\frac{1}{2^n}$ = $\\frac{1}{2^{i-1}}$\n",
        "\n",
        "As proof, take i = 2. Then: \n",
        "\n",
        "$\\sum_{n=2}^∞ \\frac{1}{2^n}$ = $\\frac{1}{2}$\n",
        "\n",
        "n = i = 2, so i-1 = 1. \n",
        "\n",
        "$\\frac{1}{2^1}$ = $\\frac{1}{2}$. \n",
        "\n",
        "This means that regardless of which n (how many concurrent flips) you pick, you will always have a 50-50 chance on the next one. \n",
        "\n",
        "Think of the results as strings of numbers. When you start, you do not know if the next result is part of a string of length 1 or greater. \n",
        "\n",
        "There is a 50% chance that the string is of length 1, 25% chance of length 2, 12.5% chance of length 3, and so on. \n",
        "\n",
        "We have proved, however, that there is an equal chance of having string length 1 and having a string length >= 2. \n",
        "\n",
        "Expanding on this, we can say that there is an equal chance of having string length n and having a string length >= n + 1. \n",
        "\n",
        "Therefore, it does not matter how many flips you know have been concurrent. Your next flip will always be 50-50. \n"
      ],
      "metadata": {
        "id": "e_C-hKpFeHj0"
      }
    }
  ]
}